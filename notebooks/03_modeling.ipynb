{
 "cells": [
  {
   "cell_type": "markdown",
   "id": "1396aab8",
   "metadata": {},
   "source": [
    "# 🧠 Model Training & Comparison"
   ]
  },
  {
   "cell_type": "code",
   "execution_count": null,
   "id": "10e5f17a",
   "metadata": {},
   "outputs": [],
   "source": [
    "\n",
    "from src.train import train_pipeline\n",
    "\n",
    "# Try different models like: \"SVM\", \"Naive Bayes\", \"Random Forest\", \"Voting\"\n",
    "train_pipeline(model_name=\"Voting\")\n"
   ]
  },
  {
   "cell_type": "code",
   "execution_count": null,
   "id": "d47a6b2e",
   "metadata": {},
   "outputs": [],
   "source": [
    "import pandas as pd\n",
    "from src.feature_engineering import apply_tfidf_vectorizer, reduce_with_tsne\n",
    "\n",
    "# Load preprocessed data\n",
    "df = pd.read_csv(\"../data/processed/clean_data.csv\")\n",
    "\n",
    "# Generate feature matrix\n",
    "X, tfidf = apply_tfidf_vectorizer(df[\"cleaned_text\"])\n",
    "\n",
    "# Optional: reduce for visualization\n",
    "X_embedded = reduce_with_tsne(X)\n",
    "\n",
    "# Now you can plot X_embedded using matplotlib or seaborn\n"
   ]
  }
 ],
 "metadata": {
  "language_info": {
   "name": "python"
  }
 },
 "nbformat": 4,
 "nbformat_minor": 5
}
