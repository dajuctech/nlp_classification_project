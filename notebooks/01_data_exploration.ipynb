# Data Exploration

```python
import pandas as pd
import seaborn as sns
import matplotlib.pyplot as plt

# Load and inspect
path = '../data/raw/dataset.csv'
df = pd.read_csv(path)
df.info()
sns.countplot(x='label', data=df)
plt.show()
```