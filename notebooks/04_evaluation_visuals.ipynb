{
 "cells": [
  {
   "cell_type": "markdown",
   "id": "396f01e1",
   "metadata": {},
   "source": [
    "### Evaluation & Visualization"
   ]
  },
  {
   "cell_type": "code",
   "execution_count": null,
   "id": "0b498d48",
   "metadata": {},
   "outputs": [],
   "source": [
    "import pandas as pd\n",
    "from sklearn.model_selection import train_test_split\n",
    "from sklearn.feature_extraction.text import TfidfVectorizer\n",
    "from sklearn.linear_model import LogisticRegression\n",
    "\n",
    "from src.evaluate import plot_confusion_matrix, print_classification_metrics, generate_wordcloud\n",
    "\n",
    "# Load preprocessed data\n",
    "df = pd.read_csv(\"../data/processed/clean_data.csv\")\n",
    "\n",
    "# Quick word cloud\n",
    "generate_wordcloud(df[\"cleaned_text\"])\n",
    "\n",
    "# Split and vectorize\n",
    "X = TfidfVectorizer(max_features=5000).fit_transform(df[\"cleaned_text\"])\n",
    "y = df[\"label\"]\n",
    "X_train, X_val, y_train, y_val = train_test_split(X, y, test_size=0.3, random_state=42)\n",
    "\n",
    "# Train a simple model\n",
    "model = LogisticRegression(max_iter=1000)\n",
    "model.fit(X_train, y_train)\n",
    "y_pred = model.predict(X_val)\n",
    "\n",
    "# Evaluate\n",
    "print_classification_metrics(y_val, y_pred)\n",
    "plot_confusion_matrix(y_val, y_pred)\n"
   ]
  }
 ],
 "metadata": {
  "language_info": {
   "name": "python"
  }
 },
 "nbformat": 4,
 "nbformat_minor": 5
}
