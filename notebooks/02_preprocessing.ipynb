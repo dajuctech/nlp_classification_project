# Preprocessing Pipeline

```python
from src.preprocessing import clean_text

sample = "This is a raw text!!! 😃🔥"
print(clean_text(sample))
```