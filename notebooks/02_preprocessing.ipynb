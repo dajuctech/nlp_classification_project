{
 "cells": [
  {
   "cell_type": "markdown",
   "id": "38ec16db",
   "metadata": {},
   "source": [
    "# 🧼 Text Preprocessing"
   ]
  },
  {
   "cell_type": "code",
   "execution_count": null,
   "id": "2ed6240c",
   "metadata": {},
   "outputs": [],
   "source": [
    "\n",
    "from src.data_loader import load_raw_data, save_cleaned_data\n",
    "from src.preprocessing import preprocess_pipeline\n",
    "\n",
    "df = load_raw_data(\"train.csv\")\n",
    "df = preprocess_pipeline(df, input_col=\"tweet\", output_col=\"cleaned_text\")\n",
    "save_cleaned_data(df, filename=\"clean_data.csv\")\n",
    "df.head()\n"
   ]
  }
 ],
 "metadata": {},
 "nbformat": 4,
 "nbformat_minor": 5
}
