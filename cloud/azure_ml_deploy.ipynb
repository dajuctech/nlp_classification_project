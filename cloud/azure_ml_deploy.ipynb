{
 "cells": [
  {
   "cell_type": "markdown",
   "id": "027ac7e9",
   "metadata": {},
   "source": [
    "# Azure ML Deployment"
   ]
  },
  {
   "cell_type": "code",
   "execution_count": null,
   "id": "b8e73024",
   "metadata": {},
   "outputs": [],
   "source": [
    "!pip install azureml-core azureml-sdk -q"
   ]
  },
  {
   "cell_type": "code",
   "execution_count": null,
   "id": "c3683841",
   "metadata": {},
   "outputs": [],
   "source": [
    "\n",
    "from azureml.core import Workspace\n",
    "ws = Workspace.from_config()\n",
    "print(f\"Connected to workspace: {ws.name}\")\n"
   ]
  },
  {
   "cell_type": "code",
   "execution_count": null,
   "id": "c2468791",
   "metadata": {},
   "outputs": [],
   "source": [
    "\n",
    "from azureml.core.model import Model\n",
    "\n",
    "model = Model.register(\n",
    "    model_path=\"models/final_model.pkl\",\n",
    "    model_name=\"nlp-text-classifier\",\n",
    "    workspace=ws\n",
    ")\n",
    "print(f\"Registered model: {model.name}\")\n"
   ]
  },
  {
   "cell_type": "code",
   "execution_count": null,
   "id": "e4b7fda0",
   "metadata": {},
   "outputs": [],
   "source": [
    "\n",
    "from azureml.core.environment import Environment\n",
    "from azureml.core.model import InferenceConfig\n",
    "\n",
    "env = Environment.from_conda_specification(name=\"nlp-env\", file_path=\"environment.yml\")\n",
    "inference_config = InferenceConfig(entry_script=\"score.py\", environment=env)\n"
   ]
  },
  {
   "cell_type": "code",
   "execution_count": null,
   "id": "53bcf8b5",
   "metadata": {},
   "outputs": [],
   "source": [
    "\n",
    "from azureml.core.webservice import AciWebservice\n",
    "\n",
    "deployment_config = AciWebservice.deploy_configuration(cpu_cores=1, memory_gb=1)\n",
    "\n",
    "service = Model.deploy(\n",
    "    workspace=ws,\n",
    "    name=\"nlp-api-service\",\n",
    "    models=[model],\n",
    "    inference_config=inference_config,\n",
    "    deployment_config=deployment_config\n",
    ")\n",
    "\n",
    "service.wait_for_deployment(show_output=True)\n",
    "print(f\"Deployed at: {service.scoring_uri}\")\n"
   ]
  }
 ],
 "metadata": {},
 "nbformat": 4,
 "nbformat_minor": 5
}
