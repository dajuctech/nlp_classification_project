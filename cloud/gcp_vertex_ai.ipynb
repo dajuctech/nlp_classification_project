{
 "cells": [
  {
   "cell_type": "markdown",
   "id": "cca2b906",
   "metadata": {},
   "source": [
    "# GCP Vertex AI Deployment"
   ]
  },
  {
   "cell_type": "code",
   "execution_count": null,
   "id": "764a223e",
   "metadata": {},
   "outputs": [],
   "source": [
    "!pip install google-cloud-aiplatform -q"
   ]
  },
  {
   "cell_type": "code",
   "execution_count": null,
   "id": "be5f4c7f",
   "metadata": {},
   "outputs": [],
   "source": [
    "\n",
    "from google.colab import auth\n",
    "auth.authenticate_user()\n"
   ]
  },
  {
   "cell_type": "code",
   "execution_count": null,
   "id": "74260412",
   "metadata": {},
   "outputs": [],
   "source": [
    "\n",
    "from google.cloud import aiplatform\n",
    "\n",
    "aiplatform.init(\n",
    "    project=\"your-gcp-project-id\",\n",
    "    location=\"us-central1\"\n",
    ")\n",
    "\n",
    "model = aiplatform.Model.upload(\n",
    "    display_name=\"NLP_Classifier\",\n",
    "    artifact_uri=\"gs://your-bucket/models/final_model.pkl\",\n",
    "    serving_container_image_uri=\"us-docker.pkg.dev/vertex-ai/prediction/sklearn-cpu.0-24:latest\"\n",
    ")\n",
    "\n",
    "endpoint = model.deploy(machine_type=\"n1-standard-2\")\n"
   ]
  },
  {
   "cell_type": "code",
   "execution_count": null,
   "id": "71152f90",
   "metadata": {},
   "outputs": [],
   "source": [
    "# 5. Deploy model to endpoint\n",
    "endpoint = model.deploy(\n",
    "    machine_type=\"n1-standard-2\"\n",
    ")"
   ]
  }
 ],
 "metadata": {
  "language_info": {
   "name": "python"
  }
 },
 "nbformat": 4,
 "nbformat_minor": 5
}
