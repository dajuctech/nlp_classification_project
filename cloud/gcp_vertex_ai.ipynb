# GCP Vertex AI Setup Instructions

1. Upload model and notebook to GCS.
2. Use `aiplatform.CustomJob` or `AutoML`.
3. Deploy endpoint via `Model.deploy()`.