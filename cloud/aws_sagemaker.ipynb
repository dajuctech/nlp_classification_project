# AWS SageMaker Setup Instructions

1. Upload training script and data to S3.
2. Use `sagemaker.sklearn.estimator.SKLearn` for training.
3. Deploy model with `estimator.deploy()`.