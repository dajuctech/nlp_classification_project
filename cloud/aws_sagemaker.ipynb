{
 "cells": [
  {
   "cell_type": "markdown",
   "id": "4ab86937",
   "metadata": {},
   "source": [
    "# AWS SageMaker Deployment"
   ]
  },
  {
   "cell_type": "code",
   "execution_count": null,
   "id": "c9236f9a",
   "metadata": {},
   "outputs": [],
   "source": [
    "!pip install sagemaker -q"
   ]
  },
  {
   "cell_type": "code",
   "execution_count": null,
   "id": "d88f36a6",
   "metadata": {},
   "outputs": [],
   "source": [
    "\n",
    "import sagemaker\n",
    "from sagemaker import get_execution_role\n",
    "\n",
    "session = sagemaker.Session()\n",
    "role = get_execution_role()\n",
    "\n",
    "print(\"Session and role initialized.\")\n"
   ]
  },
  {
   "cell_type": "code",
   "execution_count": null,
   "id": "cc675885",
   "metadata": {},
   "outputs": [],
   "source": [
    "\n",
    "import boto3\n",
    "s3 = boto3.client('s3')\n",
    "s3.upload_file(\"models/final_model.pkl\", \"your-bucket-name\", \"models/final_model.pkl\")\n"
   ]
  },
  {
   "cell_type": "code",
   "execution_count": null,
   "id": "c5936365",
   "metadata": {},
   "outputs": [],
   "source": [
    "\n",
    "from sagemaker.sklearn.model import SKLearnModel\n",
    "\n",
    "sklearn_model = SKLearnModel(\n",
    "    entry_point=\"src/train.py\",\n",
    "    role=role,\n",
    "    framework_version=\"0.23-1\",\n",
    "    model_data=\"s3://your-bucket-name/models/final_model.pkl\",\n",
    "    sagemaker_session=session,\n",
    ")\n",
    "\n",
    "predictor = sklearn_model.deploy(instance_type=\"ml.m5.large\", initial_instance_count=1)\n"
   ]
  }
 ],
 "metadata": {},
 "nbformat": 4,
 "nbformat_minor": 5
}
